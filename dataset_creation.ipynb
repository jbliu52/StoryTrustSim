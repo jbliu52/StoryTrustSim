{
 "cells": [
  {
   "cell_type": "code",
   "execution_count": 1,
   "metadata": {},
   "outputs": [
    {
     "name": "stderr",
     "output_type": "stream",
     "text": [
      "/homes/ngetach/miniconda/envs/project/lib/python3.11/site-packages/tqdm/auto.py:21: TqdmWarning: IProgress not found. Please update jupyter and ipywidgets. See https://ipywidgets.readthedocs.io/en/stable/user_install.html\n",
      "  from .autonotebook import tqdm as notebook_tqdm\n"
     ]
    }
   ],
   "source": [
    "from transformers import AutoTokenizer, AutoModelForCausalLM\n",
    "from openai import OpenAI\n",
    "from dotenv import load_dotenv\n",
    "import os\n",
    "import random\n",
    "import numpy as np\n",
    "import regex as re\n",
    "import pandas as pd"
   ]
  },
  {
   "cell_type": "code",
   "execution_count": 2,
   "metadata": {},
   "outputs": [],
   "source": [
    "load_dotenv()\n",
    "os.environ['OPENAI_API_KEY'] = os.getenv('OPENAI_KEY')\n"
   ]
  },
  {
   "cell_type": "code",
   "execution_count": 3,
   "metadata": {},
   "outputs": [
    {
     "data": {
      "text/plain": [
       "(['If not D then H', 'If H then not B'], ['not D', 'H', 'not B'])"
      ]
     },
     "execution_count": 3,
     "metadata": {},
     "output_type": "execute_result"
    }
   ],
   "source": [
    "lowercases = list('abcdefghijklmnopqrstuvwxyz')\n",
    "uppercases = list('ABCDEFGHIJKLMNOPQRSTUVWXYZ')\n",
    "\n",
    "def build_logical_statement(hops, facts, negations=True):\n",
    "    sample_vars = random.sample(facts, hops)\n",
    "    if negations:\n",
    "        sample_vars = [\"not \" + s if random.choice([True, False]) else s for s in sample_vars]\n",
    "    output = ''\n",
    "    for i in range(len(sample_vars)-1):\n",
    "        generation_str = f'If {sample_vars[i]} then {sample_vars[i+1]}. '\n",
    "        output += generation_str\n",
    "    return [o.strip() for o in output.strip().split('.')][:-1], sample_vars\n",
    "    \n",
    "ret = build_logical_statement(3, uppercases)\n",
    "ret"
   ]
  },
  {
   "cell_type": "markdown",
   "metadata": {},
   "source": [
    "# Drafting dataset generation method"
   ]
  },
  {
   "cell_type": "markdown",
   "metadata": {},
   "source": [
    "### Basic dataset with pre-defined, fixed facts."
   ]
  },
  {
   "cell_type": "code",
   "execution_count": 4,
   "metadata": {},
   "outputs": [
    {
     "data": {
      "text/plain": [
       "array([[[1., 1., 1.],\n",
       "        [0., 1., 0.],\n",
       "        [1., 0., 0.]],\n",
       "\n",
       "       [[0., 1., 0.],\n",
       "        [0., 0., 1.],\n",
       "        [1., 0., 1.]],\n",
       "\n",
       "       [[1., 1., 1.],\n",
       "        [1., 0., 1.],\n",
       "        [1., 0., 0.]]])"
      ]
     },
     "execution_count": 4,
     "metadata": {},
     "output_type": "execute_result"
    }
   ],
   "source": [
    "# With numpy array, make a 3d matrix showing beliefs of beliefs\n",
    "level_two_bg = np.random.rand(3,3,3).round()\n",
    "level_two_bg"
   ]
  },
  {
   "cell_type": "code",
   "execution_count": 5,
   "metadata": {},
   "outputs": [
    {
     "data": {
      "text/plain": [
       "array([1., 1., 1.])"
      ]
     },
     "execution_count": 5,
     "metadata": {},
     "output_type": "execute_result"
    }
   ],
   "source": [
    "# n_people x n_facts x n_people matrix where for each person i, M[i,i] are there own beliefs for every fact, M[i, x] are their beleifs about person x\n",
    "level_two_bg[0,0]"
   ]
  },
  {
   "cell_type": "code",
   "execution_count": 6,
   "metadata": {},
   "outputs": [
    {
     "name": "stdout",
     "output_type": "stream",
     "text": [
      "[[[1. 1. 1. 1.]\n",
      "  [0. 1. 0. 0.]\n",
      "  [0. 1. 0. 1.]\n",
      "  [1. 0. 0. 0.]\n",
      "  [1. 0. 0. 0.]]\n",
      "\n",
      " [[0. 1. 0. 0.]\n",
      "  [1. 0. 1. 1.]\n",
      "  [0. 0. 1. 0.]\n",
      "  [0. 0. 0. 0.]\n",
      "  [0. 1. 0. 0.]]\n",
      "\n",
      " [[0. 1. 0. 0.]\n",
      "  [1. 0. 1. 1.]\n",
      "  [1. 1. 1. 0.]\n",
      "  [0. 0. 1. 1.]\n",
      "  [0. 0. 1. 0.]]\n",
      "\n",
      " [[0. 0. 1. 1.]\n",
      "  [0. 1. 1. 1.]\n",
      "  [1. 0. 1. 0.]\n",
      "  [0. 0. 0. 0.]\n",
      "  [0. 1. 1. 0.]]\n",
      "\n",
      " [[0. 1. 0. 0.]\n",
      "  [1. 1. 0. 0.]\n",
      "  [1. 1. 0. 0.]\n",
      "  [0. 1. 1. 1.]\n",
      "  [1. 0. 1. 1.]]]\n"
     ]
    }
   ],
   "source": [
    "num_people = 5\n",
    "num_facts = 4\n",
    "people = ['Alice', 'Bob', 'Joe', 'Carlos', 'Jane']\n",
    "facts = ['wumpuses are jumpuses', 'bombos have zombos', 'chowkey need joobers','dooberts have yompers','roules have gravems']\n",
    "\n",
    "info_arr = np.random.rand(num_people,num_people,num_facts).round()\n",
    "print(info_arr)"
   ]
  },
  {
   "cell_type": "code",
   "execution_count": 7,
   "metadata": {},
   "outputs": [
    {
     "name": "stdout",
     "output_type": "stream",
     "text": [
      "Alice believes wumpuses are jumpuses, believes bombos have zombos, believes chowkey need joobers, and believes dooberts have yompers. Alice thinks Bob does not believe wumpuses are jumpuses, believes bombos have zombos, does not believe chowkey need joobers, and does not believe dooberts have yompers. Alice thinks Joe does not believe wumpuses are jumpuses, believes bombos have zombos, does not believe chowkey need joobers, and believes dooberts have yompers. Alice thinks Carlos believes wumpuses are jumpuses, does not believe bombos have zombos, does not believe chowkey need joobers, and does not believe dooberts have yompers. Alice thinks Jane believes wumpuses are jumpuses, does not believe bombos have zombos, does not believe chowkey need joobers, and does not believe dooberts have yompers. \n",
      "\n",
      "Bob thinks Alice does not believe wumpuses are jumpuses, believes bombos have zombos, does not believe chowkey need joobers, and does not believe dooberts have yompers. Bob believes wumpuses are jumpuses, does not believe bombos have zombos, believes chowkey need joobers, and believes dooberts have yompers. Bob thinks Joe does not believe wumpuses are jumpuses, does not believe bombos have zombos, believes chowkey need joobers, and does not believe dooberts have yompers. Bob thinks Carlos does not believe wumpuses are jumpuses, does not believe bombos have zombos, does not believe chowkey need joobers, and does not believe dooberts have yompers. Bob thinks Jane does not believe wumpuses are jumpuses, believes bombos have zombos, does not believe chowkey need joobers, and does not believe dooberts have yompers. \n",
      "\n",
      "Joe thinks Alice does not believe wumpuses are jumpuses, believes bombos have zombos, does not believe chowkey need joobers, and does not believe dooberts have yompers. Joe thinks Bob believes wumpuses are jumpuses, does not believe bombos have zombos, believes chowkey need joobers, and believes dooberts have yompers. Joe believes wumpuses are jumpuses, believes bombos have zombos, believes chowkey need joobers, and does not believe dooberts have yompers. Joe thinks Carlos does not believe wumpuses are jumpuses, does not believe bombos have zombos, believes chowkey need joobers, and believes dooberts have yompers. Joe thinks Jane does not believe wumpuses are jumpuses, does not believe bombos have zombos, believes chowkey need joobers, and does not believe dooberts have yompers. \n",
      "\n",
      "Carlos thinks Alice does not believe wumpuses are jumpuses, does not believe bombos have zombos, believes chowkey need joobers, and believes dooberts have yompers. Carlos thinks Bob does not believe wumpuses are jumpuses, believes bombos have zombos, believes chowkey need joobers, and believes dooberts have yompers. Carlos thinks Joe believes wumpuses are jumpuses, does not believe bombos have zombos, believes chowkey need joobers, and does not believe dooberts have yompers. Carlos does not believe wumpuses are jumpuses, does not believe bombos have zombos, does not believe chowkey need joobers, and does not believe dooberts have yompers. Carlos thinks Jane does not believe wumpuses are jumpuses, believes bombos have zombos, believes chowkey need joobers, and does not believe dooberts have yompers. \n",
      "\n",
      "Jane thinks Alice does not believe wumpuses are jumpuses, believes bombos have zombos, does not believe chowkey need joobers, and does not believe dooberts have yompers. Jane thinks Bob believes wumpuses are jumpuses, believes bombos have zombos, does not believe chowkey need joobers, and does not believe dooberts have yompers. Jane thinks Joe believes wumpuses are jumpuses, believes bombos have zombos, does not believe chowkey need joobers, and does not believe dooberts have yompers. Jane thinks Carlos does not believe wumpuses are jumpuses, believes bombos have zombos, believes chowkey need joobers, and believes dooberts have yompers. Jane believes wumpuses are jumpuses, does not believe bombos have zombos, believes chowkey need joobers, and believes dooberts have yompers. \n",
      "\n"
     ]
    }
   ],
   "source": [
    "dataset = []\n",
    "\n",
    "# dimensions: num_people x num_people x num_facts\n",
    "for i in range(info_arr.shape[0]):\n",
    "    subject = people[i]\n",
    "    #output = f'{subject} '\n",
    "    output = ''\n",
    "    for j in range(info_arr.shape[1]):\n",
    "        if i == j:\n",
    "            # your own beliefs\n",
    "            output += f'{subject} '\n",
    "        else:\n",
    "            # other's beliefs\n",
    "            output += f'{subject} thinks {people[j]} '\n",
    "        for k in range(info_arr.shape[2]):\n",
    "            thought = 'believes' if info_arr[i,j,k] == 1 else 'does not believe'\n",
    "            if k == info_arr.shape[2] - 1:\n",
    "                output += f'and {thought} {facts[k]}. '\n",
    "            else:\n",
    "                output += f'{thought} {facts[k]}, '\n",
    "    print(output + '\\n')\n",
    "    \n",
    "    "
   ]
  },
  {
   "cell_type": "markdown",
   "metadata": {},
   "source": [
    "Letters can be replaced with facts about the world. Could also be replaced with relations between other people.\n",
    "\n",
    "This setup above could lead to asking question like:\n",
    "- Do Bob and Alice agree about A? *Answer is checking if M[0,0,0] == M[1,1,0]*\n",
    "- Assume A implies doing X. Would Alice do X? Would Bob be surpised to see Alice doing X? *Answers would be just checking if M[1,0,0] == 1* \n",
    "- Alice calls a meeting with everyone she knows that disagrees with her on B. Would Joe be at this meeting? *Answer is checking if M[2,1,2] == M[0,0,1]*\n",
    "\n",
    "\n",
    "Alice believes wumpuses are jumpuses, believes bombos have zombos, does not believe chowkey need joobers, and believes dooberts have yompers. Alice thinks Bob does not believe wumpuses are jumpuses, believes bombos have zombos, does not believe chowkey need joobers, and believes dooberts have yompers. Alice thinks Joe believes wumpuses are jumpuses, believes bombos have zombos, believes chowkey need joobers, and believes dooberts have yompers. Alice thinks Carlos does not believe wumpuses are jumpuses, does not believe bombos have zombos, believes chowkey need joobers, and believes dooberts have yompers. Alice thinks Jane does not believe wumpuses are jumpuses, believes bombos have zombos, does not believe chowkey need joobers, and does not believe dooberts have yompers. \n",
    "\n",
    "Bob thinks Alice does not believe wumpuses are jumpuses, does not believe bombos have zombos, does not believe chowkey need joobers, and does not believe dooberts have yompers. Bob believes wumpuses are jumpuses, believes bombos have zombos, believes chowkey need joobers, and believes dooberts have yompers. Bob thinks Joe does not believe wumpuses are jumpuses, does not believe bombos have zombos, does not believe chowkey need joobers, and believes dooberts have yompers. Bob thinks Carlos does not believe wumpuses are jumpuses, believes bombos have zombos, believes chowkey need joobers, and believes dooberts have yompers. Bob thinks Jane does not believe wumpuses are jumpuses, believes bombos have zombos, does not believe chowkey need joobers, and believes dooberts have yompers. \n",
    "\n",
    "Joe thinks Alice believes wumpuses are jumpuses, does not believe bombos have zombos, believes chowkey need joobers, and does not believe dooberts have yompers. Joe thinks Bob does not believe wumpuses are jumpuses, does not believe bombos have zombos, believes chowkey need joobers, and believes dooberts have yompers. Joe does not believe wumpuses are jumpuses, does not believe bombos have zombos, does not believe chowkey need joobers, and believes dooberts have yompers. Joe thinks Carlos does not believe wumpuses are jumpuses, believes bombos have zombos, does not believe chowkey need joobers, and believes dooberts have yompers. Joe thinks Jane believes wumpuses are jumpuses, believes bombos have zombos, believes chowkey need joobers, and does not believe dooberts have yompers. \n",
    "\n",
    "Carlos thinks Alice believes wumpuses are jumpuses, does not believe bombos have zombos, does not believe chowkey need joobers, and does not believe dooberts have yompers. Carlos thinks Bob believes wumpuses are jumpuses, does not believe bombos have zombos, believes chowkey need joobers, and believes dooberts have yompers. Carlos thinks Joe does not believe wumpuses are jumpuses, believes bombos have zombos, does not believe chowkey need joobers, and does not believe dooberts have yompers. Carlos believes wumpuses are jumpuses, believes bombos have zombos, does not believe chowkey need joobers, and believes dooberts have yompers. Carlos thinks Jane does not believe wumpuses are jumpuses, does not believe bombos have zombos, believes chowkey need joobers, and does not believe dooberts have yompers. \n",
    "\n",
    "Jane thinks Alice does not believe wumpuses are jumpuses, does not believe bombos have zombos, believes chowkey need joobers, and believes dooberts have yompers. Jane thinks Bob does not believe wumpuses are jumpuses, believes bombos have zombos, does not believe chowkey need joobers, and does not believe dooberts have yompers. Jane thinks Joe does not believe wumpuses are jumpuses, believes bombos have zombos, does not believe chowkey need joobers, and does not believe dooberts have yompers. Jane thinks Carlos believes wumpuses are jumpuses, does not believe bombos have zombos, believes chowkey need joobers, and does not believe dooberts have yompers. Jane does not believe wumpuses are jumpuses, does not believe bombos have zombos, believes chowkey need joobers, and believes dooberts have yompers. \n",
    "\n",
    "Do Bob and Alice agree about wumpuses?\n"
   ]
  },
  {
   "cell_type": "markdown",
   "metadata": {},
   "source": [
    "### Higher order facts"
   ]
  },
  {
   "cell_type": "markdown",
   "metadata": {},
   "source": [
    "Notes from Saporov: Let each person be named 1, ..., n. They have their own knowledge graph G_i (this just has the information that person i knows). They also have knowledge graphs G_i,j for every other person j which represents what person i believes person j knows. So this generalizes your setup a bit in that it's not all or nothing: a person can know some parts of what another person believes but not necessarily everything (or nothing).\n",
    "\n",
    "In theory, you could go even further and say for every (i,j), there is a graph for every other person k, call it G_i,j,k that represents what person i believes person j believes person k knows. And so on.\n",
    "\n",
    "Another way to look at it could be to create a new kind of \"higher-order\" fact like `believes(sally,likes(alex,jay))` which would have a meaning like \"Sally thinks that Alex likes Jay.\" And instead of having a hierarchy of multiple knowledge graphs, you can just have one knowledge graph per person G_i, except the knowledge graphs can contain facts like `believes(i,e)`. Note that you can have nested logical forms like `believes(sally,believes(jen,likes(alex,jay)))` which would mean \"Sally thinks that Jen thinks that Alex likes Jay.\" This language would have good expressive power since we can make distinctions like: believes(sally,~likes(alex,jay)) which would mean \"Sally believes that Alex does not like Jay,\" vs ~believes(sally,likes(alex,jay)) which would mean \"Sally does not believe that Alex likes Jay\" (notice that the first implies the second but the second doesn't necessarily imply the first). So we can have a rule of inference like: for all i and e, if believes(i,~e) then ~believes(i,e).\n"
   ]
  },
  {
   "cell_type": "code",
   "execution_count": 8,
   "metadata": {},
   "outputs": [],
   "source": [
    "# First create a knowledge graph that people's beliefs are based on\n",
    "num_people = 3\n",
    "people = ['Alice', 'Bob', 'Joe']"
   ]
  },
  {
   "cell_type": "code",
   "execution_count": 9,
   "metadata": {},
   "outputs": [
    {
     "name": "stdout",
     "output_type": "stream",
     "text": [
      "[[0. 1. 1.]\n",
      " [1. 0. 1.]\n",
      " [1. 0. 1.]]\n"
     ]
    }
   ],
   "source": [
    "world_relation_graph = np.random.rand(num_people,num_people).round()\n",
    "print(world_relation_graph)"
   ]
  },
  {
   "cell_type": "code",
   "execution_count": 10,
   "metadata": {},
   "outputs": [
    {
     "name": "stdout",
     "output_type": "stream",
     "text": [
      "Alice likes Bob. Alice likes Joe. \n",
      "Bob likes Alice. Bob likes Joe. \n",
      "Joe likes Alice. Joe doesn't like Bob. \n"
     ]
    }
   ],
   "source": [
    "# Translate to string\n",
    "for i in range(world_relation_graph.shape[0]):\n",
    "    output = ''\n",
    "    for j in range(world_relation_graph.shape[1]):\n",
    "        if i != j:\n",
    "            output += f'{people[i]}'\n",
    "            relation = 'likes' if world_relation_graph[i,j] == 1 else \"doesn't like\"\n",
    "            output += f' {relation} {people[j]}. '\n",
    "    print(output)"
   ]
  },
  {
   "cell_type": "markdown",
   "metadata": {},
   "source": [
    "In each persons graph, row i,j singifies agreement with the information given by this matrix."
   ]
  },
  {
   "cell_type": "code",
   "execution_count": 11,
   "metadata": {},
   "outputs": [
    {
     "name": "stdout",
     "output_type": "stream",
     "text": [
      "[[[1. 0. 0.]\n",
      "  [1. 1. 1.]\n",
      "  [1. 0. 1.]]\n",
      "\n",
      " [[0. 0. 0.]\n",
      "  [1. 0. 1.]\n",
      "  [0. 1. 0.]]\n",
      "\n",
      " [[1. 1. 1.]\n",
      "  [1. 0. 0.]\n",
      "  [1. 1. 1.]]]\n",
      "---\n",
      "[[0. 1. 1.]\n",
      " [1. 0. 1.]\n",
      " [1. 0. 1.]]\n"
     ]
    }
   ],
   "source": [
    "personal_belief_graph = np.random.rand(num_people,num_people,num_people).round()\n",
    "print(personal_belief_graph)\n",
    "print('---')\n",
    "print(world_relation_graph)"
   ]
  },
  {
   "cell_type": "code",
   "execution_count": 12,
   "metadata": {},
   "outputs": [
    {
     "name": "stdout",
     "output_type": "stream",
     "text": [
      "[[[0. 1. 1.]\n",
      "  [1. 1. 1.]\n",
      "  [1. 0. 1.]]\n",
      "\n",
      " [[0. 0. 0.]\n",
      "  [1. 0. 1.]\n",
      "  [0. 1. 0.]]\n",
      "\n",
      " [[1. 1. 1.]\n",
      "  [1. 0. 0.]\n",
      "  [1. 0. 1.]]]\n"
     ]
    }
   ],
   "source": [
    "# Fix each row so that their personal graph equals the world graph on themselves\n",
    "for i in range(personal_belief_graph.shape[0]):\n",
    "    for j in range(personal_belief_graph.shape[1]):\n",
    "        if i == j:\n",
    "            personal_belief_graph[i,j] = world_relation_graph[i]\n",
    "print(personal_belief_graph)\n"
   ]
  },
  {
   "cell_type": "code",
   "execution_count": 13,
   "metadata": {},
   "outputs": [
    {
     "name": "stdout",
     "output_type": "stream",
     "text": [
      "In Alice's  view, Bob  likes Alice.\n",
      "In Alice's  view, Bob  likes Joe.\n",
      "In Alice's  view, Joe  likes Alice.\n",
      "In Alice's  view, Joe  doesn't like Bob.\n",
      "In Bob's  view, Alice  doesn't like Bob.\n",
      "In Bob's  view, Alice  doesn't like Joe.\n",
      "In Bob's  view, Joe  doesn't like Alice.\n",
      "In Bob's  view, Joe  likes Bob.\n",
      "In Joe's  view, Alice  likes Bob.\n",
      "In Joe's  view, Alice  likes Joe.\n",
      "In Joe's  view, Bob  likes Alice.\n",
      "In Joe's  view, Bob  doesn't like Joe.\n"
     ]
    }
   ],
   "source": [
    "# Turn this into words\n",
    "for i in range(personal_belief_graph.shape[0]): #In i's view\n",
    "    \n",
    "    subject = people[i]\n",
    "    \n",
    "    for j in range(personal_belief_graph.shape[1]): \n",
    "        if i == j:\n",
    "            continue            \n",
    "        for k in range(personal_belief_graph.shape[2]): #j feels x towards k\n",
    "            if k != j:\n",
    "                output = f'In {subject}\\'s  view, '\n",
    "                output += f'{people[j]} '\n",
    "                relation = 'likes' if personal_belief_graph[i, j, k] == 1 else \"doesn't like\"\n",
    "                output += f' {relation} {people[k]}.'\n",
    "                #output += '. '\n",
    "                print(output)"
   ]
  },
  {
   "cell_type": "markdown",
   "metadata": {},
   "source": [
    "person sees object in container. person leaves. other person moves object to different container. 1st person comes back. where does person look? would they be surprised?\n",
    "\n",
    "state 1, everybody has observed it -> state 2, partially observed -> who thinks theyre in state 1 and who thinks theyre in state 2\n",
    "\n",
    "can false belief be generalized to more people?\n",
    "\n",
    "world modeling + tom vs world modeling\n",
    "door problem - num people and rooms vs num movements"
   ]
  },
  {
   "cell_type": "markdown",
   "metadata": {},
   "source": [
    "Now we can ask questions about whether or not people believe what's in the world info. We can also ask questions with one degree of removal. Being limited to one degree of removal might be bad though."
   ]
  },
  {
   "cell_type": "markdown",
   "metadata": {},
   "source": []
  }
 ],
 "metadata": {
  "kernelspec": {
   "display_name": "project",
   "language": "python",
   "name": "python3"
  },
  "language_info": {
   "codemirror_mode": {
    "name": "ipython",
    "version": 3
   },
   "file_extension": ".py",
   "mimetype": "text/x-python",
   "name": "python",
   "nbconvert_exporter": "python",
   "pygments_lexer": "ipython3",
   "version": "3.11.8"
  }
 },
 "nbformat": 4,
 "nbformat_minor": 2
}
