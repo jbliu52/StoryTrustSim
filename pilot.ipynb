{
 "cells": [
  {
   "cell_type": "code",
   "execution_count": 1,
   "metadata": {},
   "outputs": [
    {
     "name": "stderr",
     "output_type": "stream",
     "text": [
      "/homes/ngetach/miniconda/envs/project/lib/python3.11/site-packages/tqdm/auto.py:21: TqdmWarning: IProgress not found. Please update jupyter and ipywidgets. See https://ipywidgets.readthedocs.io/en/stable/user_install.html\n",
      "  from .autonotebook import tqdm as notebook_tqdm\n"
     ]
    }
   ],
   "source": [
    "from transformers import AutoTokenizer, AutoModelForCausalLM\n",
    "from openai import OpenAI\n",
    "from dotenv import load_dotenv\n",
    "import os\n",
    "import random\n",
    "from storysim import StorySimulator\n",
    "import pandas as pd"
   ]
  },
  {
   "cell_type": "code",
   "execution_count": 2,
   "metadata": {},
   "outputs": [
    {
     "data": {
      "text/plain": [
       "True"
      ]
     },
     "execution_count": 2,
     "metadata": {},
     "output_type": "execute_result"
    }
   ],
   "source": [
    "load_dotenv()"
   ]
  },
  {
   "cell_type": "code",
   "execution_count": 3,
   "metadata": {},
   "outputs": [],
   "source": [
    "os.environ['OPENAI_API_KEY'] = os.getenv('OPENAI_KEY')\n"
   ]
  },
  {
   "cell_type": "code",
   "execution_count": 4,
   "metadata": {},
   "outputs": [],
   "source": [
    "# This example is the new way to use the OpenAI lib for python\n",
    "client = OpenAI()\n",
    "\n",
    "def prompt_gpt(prompt, model):\n",
    "    response = client.chat.completions.create(\n",
    "        model=model,\n",
    "        messages=[\n",
    "            {\"role\": \"user\", \"content\": prompt}\n",
    "        ],\n",
    "    )\n",
    "    \n",
    "    return response.choices[0].message.content"
   ]
  },
  {
   "cell_type": "code",
   "execution_count": 5,
   "metadata": {},
   "outputs": [],
   "source": [
    "graph = {\n",
    "        \"hole_1\": [\"hole_2\", \"field\"],\n",
    "        \"hole_2\": [\"hole_1\", \"hole_3\"],\n",
    "        \"hole_3\": [\"hole_2\", \"hole_4\"],\n",
    "        \"hole_4\": [\"hole_3\", \"field\"],\n",
    "        \"field\": [\"hole_1\", \"hole_4\"]\n",
    "    }\n",
    "\n",
    "events = {\n",
    "        \n",
    "        7:{\"name\": \"cross_paths\",\"actors\": [\"Alice\", \"Bob\"], \"location\": \"hole_2\"}, \n",
    "        8: {\"name\": \"exclusive_random\", \"actors\":[\"Alice\", \"Bob\"], \"stop\": 10 },\n",
    "        13: {\"name\": \"mislead\", \"actors\":[\"Alice\", \"Bob\"]}\n",
    "    }\n",
    "\n",
    "\n",
    "sim = StorySimulator(\n",
    "        people=[\"Alice\", \"Bob\", \"Charlie\", \"Danny\"],\n",
    "        locations=[\"hole_1\", \"hole_2\", \"hole_3\", \"hole_4\", \"field\"],\n",
    "        relation=\"jumps_in\",\n",
    "        trial_seed=10,\n",
    "        params={'prompt': '3', 'type': 'cot'},\n",
    "        graph=graph,\n",
    "        events=events\n",
    "    )"
   ]
  },
  {
   "cell_type": "code",
   "execution_count": 109,
   "metadata": {},
   "outputs": [
    {
     "name": "stdout",
     "output_type": "stream",
     "text": [
      "Alice jumps in hole_1. Charlie jumps in hole_4. Bob jumps in hole_1. Danny jumps in hole_4. Charlie jumps in hole_3. Alice jumps in hole_2. Danny jumps out to the field. Bob jumps in hole_2. Charlie jumps in hole_2. Danny jumps in hole_1. Danny jumps in hole_2. Charlie jumps in hole_3. Danny jumps in hole_3. Bob jumps in hole_3. Danny jumps in hole_2\n"
     ]
    }
   ],
   "source": [
    "res = sim.run_simulation(15)\n",
    "print(sim.formal_to_story(res))"
   ]
  },
  {
   "cell_type": "markdown",
   "metadata": {},
   "source": [
    "### Experiment Setup"
   ]
  },
  {
   "cell_type": "markdown",
   "metadata": {},
   "source": [
    "    event_dict[10] = {\"name\": \"cross_paths\",\"actors\": poi, \"location\": loc}\n",
    "    event_dict[11] = {\"name\":\"move\", \"actor\":poi[-1], \"location\": second_loc}\n",
    "    event_dict[12] = {\"name\": \"exclusive_random\", \"actors\": poi, \"stop\": 12 + mislead_distance}\n",
    "    event_dict[12 + mislead_distance] = {\"name\": \"mislead\", \"actors\": poi}\n",
    "    event_dict[12 + mislead_distance+1] = {\"name\": \"exclusive_random\", \"actors\": poi, \"stop\": story_length}\n",
    "---\n",
    "\n",
    "    "
   ]
  },
  {
   "cell_type": "code",
   "execution_count": null,
   "metadata": {},
   "outputs": [
    {
     "name": "stdout",
     "output_type": "stream",
     "text": [
      "['Bob']\n",
      "['Alice']\n",
      "['Alice']\n",
      "['Alice']\n",
      "['Alice']\n"
     ]
    }
   ],
   "source": [
    "df = pd.DataFrame({'Story':[], 'Label':[], 'P1':[], 'P2':[]})\n",
    "df.head()\n",
    "\n",
    "possible_people = [\"Alice\", \"Bob\", \"Charlie\", \"Danny\", \"Edward\", \"Frank\", \"Georgia\"]\n",
    "num_people = 5\n",
    "locations = [\"hole_1\", \"hole_2\", \"hole_3\", \"hole_4\", \"field\"]\n",
    "graph = {\n",
    "        \"hole_1\": [\"hole_2\", \"field\"],\n",
    "        \"hole_2\": [\"hole_1\", \"hole_3\"],\n",
    "        \"hole_3\": [\"hole_2\", \"hole_4\"],\n",
    "        \"hole_4\": [\"hole_3\", \"field\"],\n",
    "        \"field\": [\"hole_1\", \"hole_4\"]\n",
    "    }\n",
    "story_length = 21\n",
    "num_trials = 5\n",
    "mislead_distance = 3\n",
    "\n",
    "random.seed(25)\n",
    "\n",
    "for _ in range(num_trials):\n",
    "    event_dict = {}\n",
    "    poi = random.sample(possible_people[:num_people], 2)\n",
    "    loc = random.sample(locations,3)\n",
    "    #second_loc = random.choice(graph[loc])\n",
    "    event_dict[10] = {\"name\": \"cross_paths\",\"actors\": poi, \"location\": loc[0]}\n",
    "    event_dict[15] = {\"name\": \"cross_paths\",\"actors\": poi, \"location\": loc[1]}\n",
    "    event_dict[16] = {\"name\":\"move\", \"actor\":poi[-1], \"location\": loc[2]}\n",
    "    event_dict[17] = {\"name\": \"exclusive_random\", \"actors\": poi, \"stop\": 17 + mislead_distance}\n",
    "    event_dict[17 + mislead_distance] = {\"name\": \"mislead\", \"actors\": poi}\n",
    "    #event_dict[17 + mislead_distance+1] = {\"name\": \"exclusive_random\", \"actors\": poi, \"stop\": story_length}\n",
    "    sim = StorySimulator(\n",
    "        people=possible_people[:num_people],\n",
    "        locations=[\"hole_1\", \"hole_2\", \"hole_3\", \"hole_4\", \"field\"],\n",
    "        relation=\"jumps_in\",\n",
    "        params={'prompt': '3', 'type': 'cot'},\n",
    "        graph=graph,\n",
    "        events=event_dict\n",
    "    )\n",
    "    res = sim.run_simulation(story_length)\n",
    "    cp_answer = sim.current_locations[poi[1]][10]\n",
    "    story = sim.formal_to_story(res)\n",
    "    d = {'Story':[], 'Label':[], 'P1':[], 'P2':[]}\n",
    "    d['P1'] = \",\".join(poi[:-1]) if len(poi[:-1]) > 1 else poi[:-1]\n",
    "    print(d[\"P1\"])\n",
    "    d['P2'] = poi[-1]\n",
    "    d['Story'].append(story)\n",
    "    d['Label'].append(loc[2])\n",
    "    df = pd.concat([df, pd.DataFrame(d)])"
   ]
  },
  {
   "cell_type": "code",
   "execution_count": 122,
   "metadata": {},
   "outputs": [
    {
     "data": {
      "text/html": [
       "<div>\n",
       "<style scoped>\n",
       "    .dataframe tbody tr th:only-of-type {\n",
       "        vertical-align: middle;\n",
       "    }\n",
       "\n",
       "    .dataframe tbody tr th {\n",
       "        vertical-align: top;\n",
       "    }\n",
       "\n",
       "    .dataframe thead th {\n",
       "        text-align: right;\n",
       "    }\n",
       "</style>\n",
       "<table border=\"1\" class=\"dataframe\">\n",
       "  <thead>\n",
       "    <tr style=\"text-align: right;\">\n",
       "      <th></th>\n",
       "      <th>Story</th>\n",
       "      <th>Label</th>\n",
       "      <th>P1</th>\n",
       "      <th>P2</th>\n",
       "      <th>Responses</th>\n",
       "    </tr>\n",
       "  </thead>\n",
       "  <tbody>\n",
       "    <tr>\n",
       "      <th>0</th>\n",
       "      <td>Bob jumps in hole_1. Charlie jumps in hole_4. ...</td>\n",
       "      <td>hole_3</td>\n",
       "      <td>Bob</td>\n",
       "      <td>Alice</td>\n",
       "      <td>To determine where Bob thinks Alice is, we mus...</td>\n",
       "    </tr>\n",
       "    <tr>\n",
       "      <th>0</th>\n",
       "      <td>Alice jumps in hole_1. Alice jumps in hole_2. ...</td>\n",
       "      <td>field</td>\n",
       "      <td>Alice</td>\n",
       "      <td>Charlie</td>\n",
       "      <td>Alice last encountered Charlie in hole_4 befor...</td>\n",
       "    </tr>\n",
       "    <tr>\n",
       "      <th>0</th>\n",
       "      <td>Alice jumps in hole_4. Alice jumps in hole_3. ...</td>\n",
       "      <td>field</td>\n",
       "      <td>Alice</td>\n",
       "      <td>Charlie</td>\n",
       "      <td>To determine where Alice thinks Charlie is, we...</td>\n",
       "    </tr>\n",
       "    <tr>\n",
       "      <th>0</th>\n",
       "      <td>Bob jumps in hole_4. Alice jumps in hole_4. Al...</td>\n",
       "      <td>hole_4</td>\n",
       "      <td>Alice</td>\n",
       "      <td>Charlie</td>\n",
       "      <td>Throughout the story, Alice has not jumped out...</td>\n",
       "    </tr>\n",
       "    <tr>\n",
       "      <th>0</th>\n",
       "      <td>Alice jumps in hole_1. Charlie jumps in hole_4...</td>\n",
       "      <td>hole_4</td>\n",
       "      <td>Alice</td>\n",
       "      <td>Bob</td>\n",
       "      <td>From the story, Alice's last known location is...</td>\n",
       "    </tr>\n",
       "  </tbody>\n",
       "</table>\n",
       "</div>"
      ],
      "text/plain": [
       "                                               Story   Label     P1       P2  \\\n",
       "0  Bob jumps in hole_1. Charlie jumps in hole_4. ...  hole_3    Bob    Alice   \n",
       "0  Alice jumps in hole_1. Alice jumps in hole_2. ...   field  Alice  Charlie   \n",
       "0  Alice jumps in hole_4. Alice jumps in hole_3. ...   field  Alice  Charlie   \n",
       "0  Bob jumps in hole_4. Alice jumps in hole_4. Al...  hole_4  Alice  Charlie   \n",
       "0  Alice jumps in hole_1. Charlie jumps in hole_4...  hole_4  Alice      Bob   \n",
       "\n",
       "                                           Responses  \n",
       "0  To determine where Bob thinks Alice is, we mus...  \n",
       "0  Alice last encountered Charlie in hole_4 befor...  \n",
       "0  To determine where Alice thinks Charlie is, we...  \n",
       "0  Throughout the story, Alice has not jumped out...  \n",
       "0  From the story, Alice's last known location is...  "
      ]
     },
     "execution_count": 122,
     "metadata": {},
     "output_type": "execute_result"
    }
   ],
   "source": [
    "df.head()"
   ]
  },
  {
   "cell_type": "code",
   "execution_count": null,
   "metadata": {},
   "outputs": [],
   "source": [
    "intial_prompt = f\"Read the following story and answer the question at the end. Note that all characters start in the {sim.locations[-1]}.\"\n",
    "responses = []\n",
    "for _ ,row in df.iterrows():\n",
    "    # row['P1'].split(',')[-1]\n",
    "    prompt = f\"{intial_prompt}\\n{row['Story']}\\nQ: Where does {row['P1']} think {row['P2']} is?\"    \n",
    "    answer = prompt_gpt(prompt, 'gpt-o1')\n",
    "    responses.append(answer)\n",
    "df['Responses'] = responses"
   ]
  },
  {
   "cell_type": "code",
   "execution_count": 124,
   "metadata": {},
   "outputs": [
    {
     "name": "stdout",
     "output_type": "stream",
     "text": [
      "From the story, Alice's last known location is hole_3. Up to the point where Bob last interacts with that hole, he was in the field after jumping in hole_4 and then jumping out to the field. Alice, being unaware of Bob's movements due to the isolated holes, thinks Bob might still be in hole_1 since that's the hole they both shared after their earliest interactions.\n"
     ]
    }
   ],
   "source": [
    "print(df['Responses'].iloc[4])"
   ]
  },
  {
   "cell_type": "code",
   "execution_count": 118,
   "metadata": {},
   "outputs": [
    {
     "data": {
      "text/plain": [
       "0    True\n",
       "0    True\n",
       "0    True\n",
       "0    True\n",
       "0    True\n",
       "dtype: bool"
      ]
     },
     "execution_count": 118,
     "metadata": {},
     "output_type": "execute_result"
    }
   ],
   "source": [
    "df.apply(lambda x: x['Label'] in x['Responses'], axis=1)"
   ]
  },
  {
   "cell_type": "code",
   "execution_count": 117,
   "metadata": {},
   "outputs": [
    {
     "name": "stdout",
     "output_type": "stream",
     "text": [
      "Bob jumps in hole_1\n",
      " Charlie jumps in hole_4\n",
      " Charlie jumps out to the field\n",
      " Charlie jumps in hole_1\n",
      " Charlie jumps out to the field\n",
      " Alice jumps in hole_1\n",
      " Charlie jumps in hole_4\n",
      " Charlie jumps in hole_3\n",
      " Bob jumps in hole_2\n",
      " Charlie jumps in hole_2\n",
      " Alice jumps in hole_2\n",
      " Alice jumps in hole_3\n",
      " Charlie jumps in hole_3\n",
      " Charlie jumps in hole_2\n",
      " Charlie jumps in hole_1\n",
      " Alice jumps in hole_4\n",
      " Charlie jumps out to the field\n",
      " Charlie jumps in hole_4\n",
      " Charlie jumps out to the field\n",
      " Charlie jumps in hole_1\n",
      " Charlie jumps out to the field\n",
      "---\n",
      "Alice jumps in hole_1\n",
      " Alice jumps in hole_2\n",
      " Charlie jumps in hole_1\n",
      " Alice jumps in hole_1\n",
      " Bob jumps in hole_1\n",
      " Alice jumps out to the field\n",
      " Bob jumps out to the field\n",
      " Bob jumps in hole_4\n",
      " Alice jumps in hole_4\n",
      " Bob jumps out to the field\n",
      " Charlie jumps in hole_4\n",
      " Charlie jumps out to the field\n",
      " Bob jumps in hole_4\n",
      " Bob jumps out to the field\n",
      " Bob jumps in hole_1\n",
      " Charlie jumps in hole_1\n",
      " Bob jumps out to the field\n",
      " Bob jumps in hole_1\n",
      " Bob jumps in hole_2\n",
      " Bob jumps in hole_1\n",
      " Bob jumps in hole_2\n",
      "---\n",
      "Alice jumps in hole_4\n",
      " Alice jumps in hole_3\n",
      " Charlie jumps in hole_1\n",
      " Charlie jumps in hole_2\n",
      " Alice jumps in hole_2\n",
      " Charlie jumps in hole_1\n",
      " Alice jumps in hole_1\n",
      " Bob jumps in hole_1\n",
      " Bob jumps out to the field\n",
      " Bob jumps in hole_1\n",
      " Charlie jumps in hole_1\n",
      " Charlie jumps out to the field\n",
      " Bob jumps out to the field\n",
      " Bob jumps in hole_4\n",
      " Bob jumps out to the field\n",
      " Charlie jumps in hole_4\n",
      " Bob jumps in hole_4\n",
      " Bob jumps in hole_3\n",
      " Bob jumps in hole_4\n",
      " Bob jumps out to the field\n",
      " Bob jumps in hole_4\n",
      "---\n",
      "Bob jumps in hole_4\n",
      " Alice jumps in hole_4\n",
      " Alice jumps in hole_4\n",
      " Bob jumps in hole_3\n",
      " Bob jumps in hole_2\n",
      " Charlie jumps in hole_4\n",
      " Bob jumps in hole_1\n",
      " Bob jumps in hole_2\n",
      " Bob jumps in hole_1\n",
      " Alice jumps in hole_3\n",
      " Charlie jumps in hole_3\n",
      " Charlie jumps in hole_4\n",
      " Bob jumps out to the field\n",
      " Bob jumps in hole_1\n",
      " Bob jumps out to the field\n",
      " Charlie jumps out to the field\n",
      " Bob jumps in hole_1\n",
      " Bob jumps out to the field\n",
      " Bob jumps in hole_1\n",
      " Bob jumps in hole_2\n",
      " Bob jumps in hole_3\n",
      "---\n",
      "Alice jumps in hole_1\n",
      " Charlie jumps in hole_4\n",
      " Alice jumps out to the field\n",
      " Alice jumps in hole_1\n",
      " Bob jumps in hole_1\n",
      " Alice jumps in hole_2\n",
      " Bob jumps out to the field\n",
      " Bob jumps in hole_1\n",
      " Alice jumps in hole_3\n",
      " Bob jumps in hole_2\n",
      " Bob jumps out to the field\n",
      " Bob jumps in hole_4\n",
      " Charlie jumps in hole_3\n",
      " Charlie jumps in hole_2\n",
      " Charlie jumps in hole_3\n",
      " Bob jumps out to the field\n",
      " Charlie jumps in hole_4\n",
      " Charlie jumps in hole_3\n",
      " Charlie jumps in hole_4\n",
      " Charlie jumps out to the field\n",
      " Charlie jumps in hole_1\n",
      "---\n"
     ]
    }
   ],
   "source": [
    "for i ,row in df.iterrows():\n",
    "    print(\"\\n\".join(row['Story'].split(\".\")))\n",
    "    print('---')"
   ]
  },
  {
   "cell_type": "code",
   "execution_count": 78,
   "metadata": {},
   "outputs": [],
   "source": []
  }
 ],
 "metadata": {
  "kernelspec": {
   "display_name": "project",
   "language": "python",
   "name": "python3"
  },
  "language_info": {
   "codemirror_mode": {
    "name": "ipython",
    "version": 3
   },
   "file_extension": ".py",
   "mimetype": "text/x-python",
   "name": "python",
   "nbconvert_exporter": "python",
   "pygments_lexer": "ipython3",
   "version": "3.11.8"
  }
 },
 "nbformat": 4,
 "nbformat_minor": 2
}
