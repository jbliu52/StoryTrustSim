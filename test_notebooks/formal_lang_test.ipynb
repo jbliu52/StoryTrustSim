{
 "cells": [
  {
   "cell_type": "code",
   "execution_count": 2,
   "metadata": {},
   "outputs": [
    {
     "name": "stderr",
     "output_type": "stream",
     "text": [
      "/homes/ngetach/miniconda/envs/project/lib/python3.11/site-packages/tqdm/auto.py:21: TqdmWarning: IProgress not found. Please update jupyter and ipywidgets. See https://ipywidgets.readthedocs.io/en/stable/user_install.html\n",
      "  from .autonotebook import tqdm as notebook_tqdm\n"
     ]
    }
   ],
   "source": [
    "from transformers import AutoTokenizer, AutoModelForCausalLM\n",
    "from openai import OpenAI\n",
    "from dotenv import load_dotenv\n",
    "import os\n",
    "import random\n",
    "import numpy as np\n",
    "import regex as re\n",
    "import pandas as pd\n",
    "\n",
    "load_dotenv()\n",
    "os.environ['OPENAI_API_KEY'] = os.getenv('OPENAI_KEY')\n"
   ]
  },
  {
   "cell_type": "markdown",
   "metadata": {},
   "source": [
    "## Pilot exerpiments"
   ]
  },
  {
   "cell_type": "code",
   "execution_count": 3,
   "metadata": {},
   "outputs": [
    {
     "name": "stdout",
     "output_type": "stream",
     "text": [
      "All start at field\n"
     ]
    }
   ],
   "source": [
    "import random\n",
    "\n",
    "people = ['Alice', 'Bob', 'Joe', 'Dylan', 'Josh'] # mind reading\n",
    "# Last location is initial one\n",
    "locations = ['hole_1', 'hole_2', 'hole_3', 'hole_4','field'] # complicate the environment?\n",
    "relation = 'jumps_in' # more actions/relations?\n",
    "# goal directedness\n",
    "\n",
    "      \n",
    "#current_locations = {p:[locations[-1]] for p in people}\n",
    "\n",
    "# Update the state dict so that current_locations[person][t] is the person's location at time step t\n",
    "def update_state(subject, new_loc, current_locations):\n",
    "    for p in people:\n",
    "        if p == subject:\n",
    "            current_locations[p].append(new_loc)\n",
    "        else:\n",
    "            current_locations[p].append(current_locations[p][-1])\n",
    "\n",
    "print('All start at ' + locations[-1])\n",
    "\n",
    "def run_sim(steps, seed=None):\n",
    "    if seed is not None:\n",
    "        random.seed(seed)\n",
    "    person = ''\n",
    "    loc = ''\n",
    "    sequences = ''\n",
    "    #global current_locations\n",
    "    current_locations = {p:[locations[-1]] for p in people}\n",
    "    for t in range(steps):\n",
    "        person = random.choice(people)\n",
    "        cur_loc = current_locations[person]\n",
    "        if locations[0][:-2] in cur_loc[-1]:\n",
    "            loc = locations[-1]\n",
    "        else:\n",
    "            loc = random.choice(locations[:-1])\n",
    "        update_state(person, loc, current_locations)\n",
    "        sequences += f'{relation}({person}, {loc}, {t})\\n'    \n",
    "        #print(f'{relation}({person}, {loc}, {t})') \n",
    "    return sequences, current_locations\n",
    "\n",
    "\n",
    "# At timestep t where did subject think target was?\n",
    "# Answer is wherever the subject saw target at during t or prior\n",
    "# If they were in the same place at exactly t, then thats where subject knows target is\n",
    "# If < t they were in the same place and target moved, then its where the target moved\n",
    "# If < t they were in the same place and subject moved or both moved, its where target remains\n",
    "def last_observed_change(subject, target, t, current_locations):\n",
    "    target_history = current_locations[target]\n",
    "    subject_history = current_locations[subject]\n",
    "    #check first case\n",
    "    if target_history[t] == subject_history[t]:\n",
    "        return target_history[t], t\n",
    "    \n",
    "    # Check the second two cases\n",
    "    prev = 0\n",
    "    for t_i in range(t,-1,-1):\n",
    "        if target_history[t_i] == subject_history[t_i]:\n",
    "            prev = t_i\n",
    "    if subject_history[prev+1] == subject_history[prev+1] and target_history[prev+1] != target_history[prev+1]:\n",
    "        return target_history[prev+1], prev+1\n",
    "    else:\n",
    "        return target_history[prev], prev\n",
    "   \n",
    "# def last_observed_change_range(subject, target,start_t, end_t):\n",
    "#     target_history = current_locations[target]\n",
    "#     subject_history = current_locations[subject]\n",
    "#     #check first case\n",
    "#     if target_history[end_t] == subject_history[end_t]:\n",
    "#         return target_history[end_t], end_t\n",
    "    \n",
    "#     # Check the second two cases\n",
    "#     prev = 0\n",
    "#     for t_i in range(end_t,start_t-1,-1):\n",
    "#         if target_history[t_i] == subject_history[t_i]:\n",
    "#             prev = t_i\n",
    "#     if subject_history[prev+1] == subject_history[prev+1] and target_history[prev+1] != target_history[prev+1]:\n",
    "#         return target_history[prev+1], prev+1\n",
    "#     else:\n",
    "#         return target_history[prev], prev   \n",
    "   \n",
    "    \n",
    "def print_sequences(sequences, relation):\n",
    "    # Translate to text\n",
    "    s = sequences.split('\\n')[:-1]\n",
    "    strings = []\n",
    "    for event in s:\n",
    "        event = event.replace(f'{relation}(','').replace(')','')\n",
    "        subject, loc, _ = event.split(',')\n",
    "        # Temporal?\n",
    "        #print(f'{subject} enters{loc} at time{t}')\n",
    "        res = f'{subject} {relation.replace(\"_\", \" \") if \"hole\" in loc else relation.replace(\"_\", \" \").replace(\"in\",\"out to the\") }{loc}'\n",
    "        print(res)\n",
    "        strings.append(res)\n",
    "    return '. '.join(strings)\n",
    "\n",
    "\n",
    "# Where does Bob think that Alice thinks that ... Joe is?\n",
    "# If Bob wrote a message in LOCATION, would Alice see?\n",
    "# Bob hates anyone who jumps in hole 2. Who would Bob hate?\n",
    "# Question event, who/multiple ppl who observed an event\n",
    "# An observation change event is when one actor changes location without another actor viewing it.\n",
    "            "
   ]
  },
  {
   "cell_type": "code",
   "execution_count": 4,
   "metadata": {},
   "outputs": [],
   "source": [
    "# Updates state\n",
    "seqs = run_sim(50)\n",
    "#print(seqs)"
   ]
  },
  {
   "cell_type": "code",
   "execution_count": 5,
   "metadata": {},
   "outputs": [],
   "source": [
    "# Where does Bob think that Alice thinks that ... Joe is?\n",
    "# If Bob wrote a message in LOCATION, would Alice see?\n",
    "# Bob hates anyone who jumps in hole 2. Who would Bob hate?\n",
    "# Question event, who/multiple ppl who observed an event\n",
    "\n",
    " \n",
    "def find_question_events(t, current_locations):\n",
    "    observe_matrix = []\n",
    "    for p1 in people:\n",
    "        observe_matrix.append([])\n",
    "        for p2 in people:\n",
    "            if p1 != p2:\n",
    "                loc, time = last_observed_change(p1,p2,t, current_locations)\n",
    "                observe_matrix[-1].append((loc, time))\n",
    "            else:\n",
    "                observe_matrix[-1].append(None)\n",
    "    return observe_matrix"
   ]
  },
  {
   "cell_type": "code",
   "execution_count": 6,
   "metadata": {},
   "outputs": [],
   "source": [
    "# At each time step, who was in what location\n",
    "\n",
    "# who obseverved who observed who becomes tracking steps on this map.\n",
    "def make_temporal_tracking_map(steps, current_locations):\n",
    "    tracking_map = [{'field':set(people)}]\n",
    "    for t in range(1,steps):\n",
    "        location_to_ppl = dict()\n",
    "        for p in people:\n",
    "            curr_loc = current_locations[p][t]\n",
    "            if curr_loc in location_to_ppl:\n",
    "                location_to_ppl[curr_loc].add(p)\n",
    "            else:\n",
    "                location_to_ppl[curr_loc] = {p}\n",
    "        tracking_map.append(location_to_ppl)\n",
    "    return tracking_map\n"
   ]
  },
  {
   "cell_type": "code",
   "execution_count": 7,
   "metadata": {},
   "outputs": [],
   "source": [
    "#Fix the person, see if they cause an observance event\n",
    "def find_observance_event(temporal_map, target, current_locations):\n",
    "    target_locations = current_locations[target]\n",
    "    observers = set()\n",
    "    start = 0\n",
    "    res = []\n",
    "    for t in range(len(temporal_map)-1):\n",
    "        if target_locations[t] != target_locations[t+1]:\n",
    "            if len(observers) == 0:\n",
    "                observers = temporal_map[t][target_locations[t]].difference({target})\n",
    "                start = t\n",
    "            # Find next location change\n",
    "            else:\n",
    "                new_loc = target_locations[t+1]\n",
    "                if temporal_map[t+1][new_loc].intersection(observers) != len(observers):\n",
    "                    # People who see target coming to the new location\n",
    "                    observe_incoming = temporal_map[t+1][new_loc]\n",
    "                    # People who see target leaving the old location\n",
    "                    observe_outgoing = temporal_map[t][target_locations[t]]\n",
    "                    unaware_subjects = observers.difference(observe_incoming).difference(observe_outgoing)\n",
    "                    res.append((unaware_subjects,start, t+1))\n",
    "                    start = 0\n",
    "                observers = set()\n",
    "    return res\n",
    "            \n",
    "#find_observance_event(tm, 'Bob')             "
   ]
  },
  {
   "cell_type": "markdown",
   "metadata": {},
   "source": [
    "### Actual test"
   ]
  },
  {
   "cell_type": "code",
   "execution_count": 8,
   "metadata": {},
   "outputs": [
    {
     "name": "stdout",
     "output_type": "stream",
     "text": [
      "Dylan jumps in hole_4\n",
      "Bob jumps in hole_3\n",
      "Josh jumps in hole_4\n",
      "Alice jumps in hole_1\n",
      "Dylan jumps out to the field\n",
      "Bob jumps out to the field\n",
      "Josh jumps out to the field\n",
      "Josh jumps in hole_4\n",
      "Josh jumps out to the field\n",
      "Josh jumps in hole_4\n",
      "Alice jumps out to the field\n",
      "Dylan jumps in hole_3\n",
      "Dylan jumps out to the field\n",
      "Alice jumps in hole_1\n",
      "Bob jumps in hole_1\n",
      "Joe jumps in hole_4\n",
      "Bob jumps out to the field\n",
      "Dylan jumps in hole_4\n",
      "Alice jumps out to the field\n",
      "Dylan jumps out to the field\n",
      "18\n",
      "18\n",
      "5\n",
      "5\n",
      "16\n",
      "4\n",
      "4\n",
      "6\n",
      "[(['Dylan jumps in hole_4', ' Bob jumps in hole_3', ' Josh jumps in hole_4', ' Alice jumps in hole_1', ' Dylan jumps out to the field', ' Bob jumps out to the field', ' Josh jumps out to the field', ' Josh jumps in hole_4', ' Josh jumps out to the field', ' Josh jumps in hole_4', ' Alice jumps out to the field', ' Dylan jumps in hole_3', ' Dylan jumps out to the field', ' Alice jumps in hole_1', ' Bob jumps in hole_1', ' Joe jumps in hole_4', ' Bob jumps out to the field', ' Dylan jumps in hole_4', ' Alice jumps out to the field'], 'Where does Joe think Alice is?', 'hole_1'), (['Dylan jumps in hole_4', ' Bob jumps in hole_3', ' Josh jumps in hole_4', ' Alice jumps in hole_1', ' Dylan jumps out to the field', ' Bob jumps out to the field', ' Josh jumps out to the field', ' Josh jumps in hole_4', ' Josh jumps out to the field', ' Josh jumps in hole_4', ' Alice jumps out to the field', ' Dylan jumps in hole_3', ' Dylan jumps out to the field', ' Alice jumps in hole_1', ' Bob jumps in hole_1', ' Joe jumps in hole_4', ' Bob jumps out to the field', ' Dylan jumps in hole_4', ' Alice jumps out to the field'], 'Where does Dylan think Alice is?', 'hole_1'), (['Dylan jumps in hole_4', ' Bob jumps in hole_3', ' Josh jumps in hole_4', ' Alice jumps in hole_1', ' Dylan jumps out to the field', ' Bob jumps out to the field'], 'Where does Alice think Bob is?', 'hole_3'), (['Dylan jumps in hole_4', ' Bob jumps in hole_3', ' Josh jumps in hole_4', ' Alice jumps in hole_1', ' Dylan jumps out to the field', ' Bob jumps out to the field'], 'Where does Josh think Bob is?', 'hole_3'), (['Dylan jumps in hole_4', ' Bob jumps in hole_3', ' Josh jumps in hole_4', ' Alice jumps in hole_1', ' Dylan jumps out to the field', ' Bob jumps out to the field', ' Josh jumps out to the field', ' Josh jumps in hole_4', ' Josh jumps out to the field', ' Josh jumps in hole_4', ' Alice jumps out to the field', ' Dylan jumps in hole_3', ' Dylan jumps out to the field', ' Alice jumps in hole_1', ' Bob jumps in hole_1', ' Joe jumps in hole_4', ' Bob jumps out to the field'], 'Where does Joe think Bob is?', 'hole_1'), (['Dylan jumps in hole_4', ' Bob jumps in hole_3', ' Josh jumps in hole_4', ' Alice jumps in hole_1', ' Dylan jumps out to the field'], 'Where does Alice think Dylan is?', 'hole_4'), (['Dylan jumps in hole_4', ' Bob jumps in hole_3', ' Josh jumps in hole_4', ' Alice jumps in hole_1', ' Dylan jumps out to the field'], 'Where does Bob think Dylan is?', 'hole_4'), (['Dylan jumps in hole_4', ' Bob jumps in hole_3', ' Josh jumps in hole_4', ' Alice jumps in hole_1', ' Dylan jumps out to the field', ' Bob jumps out to the field', ' Josh jumps out to the field'], 'Where does Alice think Josh is?', 'hole_4')]\n"
     ]
    }
   ],
   "source": [
    "n_steps = 20\n",
    "test_sims, current_locations_main = run_sim(n_steps)\n",
    "story = print_sequences(test_sims, relation)\n",
    "s = story.split('.')\n",
    "tm_test = make_temporal_tracking_map(n_steps, current_locations_main)\n",
    "\n",
    "people = ['Alice', 'Bob', 'Joe', 'Dylan', 'Josh'] # mind reading\n",
    "# Last location is initial one\n",
    "locations = ['hole_1', 'hole_2', 'hole_3', 'hole_4','field'] # complicate the environment?\n",
    "\n",
    "# Find places to ask questions.\n",
    "\n",
    "res = []\n",
    "for p in people:\n",
    "    obs_events = find_observance_event(tm_test, p, current_locations_main)\n",
    "    for oe in obs_events:\n",
    "        if len(oe[0]) != 0:\n",
    "            prompt_story = s[:oe[2]]\n",
    "            for ob in oe[0]:\n",
    "                print(oe[2]-1)\n",
    "                res.append((prompt_story, f'Where does {ob} think {p} is?', current_locations_main[p][oe[2]-1]))\n",
    "print(res)"
   ]
  },
  {
   "cell_type": "code",
   "execution_count": 9,
   "metadata": {},
   "outputs": [
    {
     "name": "stdout",
     "output_type": "stream",
     "text": [
      "Joe jumps in hole_1\n",
      "Dylan jumps in hole_4\n",
      "Josh jumps in hole_3\n",
      "Joe jumps out to the field\n",
      "Josh jumps out to the field\n",
      "Dylan jumps out to the field\n",
      "Dylan jumps in hole_1\n",
      "Dylan jumps out to the field\n",
      "Alice jumps in hole_1\n",
      "Alice jumps out to the field\n",
      "Joe jumps in hole_4\n",
      "Josh jumps in hole_1\n",
      "Joe jumps out to the field\n",
      "Josh jumps out to the field\n",
      "Dylan jumps in hole_2\n",
      "Bob jumps in hole_3\n",
      "Dylan jumps out to the field\n",
      "Bob jumps out to the field\n",
      "Alice jumps in hole_3\n",
      "Joe jumps in hole_3\n"
     ]
    }
   ],
   "source": [
    "n_steps = 20\n",
    "test_sims_test, current_locations_test = run_sim(n_steps, seed=47)\n",
    "story_test = print_sequences(test_sims_test, relation)\n",
    "s_test = story_test.split('.')\n",
    "tm_test_fewshot = make_temporal_tracking_map(n_steps, current_locations_test)\n",
    "\n",
    "people = ['Alice', 'Bob', 'Joe', 'Dylan', 'Josh'] # mind reading\n",
    "# Last location is initial one\n",
    "locations = ['hole_1', 'hole_2', 'hole_3', 'hole_4','field'] # complicate the environment?\n",
    "\n",
    "# Find places to ask questions.\n",
    "# TODO  Why are the locations from the oe's set to the main story instead of the test one?\n",
    "res_test = []\n",
    "for p in people:\n",
    "    obs_events = find_observance_event(tm_test_fewshot, p, current_locations_test)\n",
    "    for oe in obs_events:\n",
    "        if len(oe[0]) != 0:\n",
    "            prompt_story = s_test[:oe[2]]\n",
    "            for ob in oe[0]:\n",
    "                #print(oe[2]-1)\n",
    "                res_test.append((prompt_story, f'Where does {ob} think {p} is?', current_locations_test[p][oe[2]-1]))"
   ]
  },
  {
   "cell_type": "code",
   "execution_count": 16,
   "metadata": {},
   "outputs": [
    {
     "data": {
      "text/plain": [
       "[19, 19, 6, 6, 17, 5, 5, 7]"
      ]
     },
     "execution_count": 16,
     "metadata": {},
     "output_type": "execute_result"
    }
   ],
   "source": [
    "[len(r[0]) for r in res]"
   ]
  },
  {
   "cell_type": "markdown",
   "metadata": {},
   "source": [
    "##### Run GPT"
   ]
  },
  {
   "cell_type": "code",
   "execution_count": 11,
   "metadata": {},
   "outputs": [],
   "source": [
    "\n",
    "client = OpenAI()\n",
    "initial_prompt = f'Read the following story and answer the question at the end. Note that all characters start in the {locations[-1]}.'\n",
    "def prompt_gpt(prompt):\n",
    "    response = client.chat.completions.create(\n",
    "        model=\"gpt-4\",\n",
    "        messages=[\n",
    "            {\"role\": \"user\", \"content\": prompt}\n",
    "        ],\n",
    "    )\n",
    "    \n",
    "    return response.choices[0].message.content"
   ]
  },
  {
   "cell_type": "code",
   "execution_count": 12,
   "metadata": {},
   "outputs": [],
   "source": [
    "results = []\n",
    "example_string = ''\n",
    "for r in res_test[:-1]:\n",
    "    example_string += f'{\".\".join(r[0])}\\nQ: {r[1]}\\nA: {r[2]}\\n\\n'\n",
    "# print(example_string)\n",
    "    \n",
    "# for r in res:\n",
    "#     #gpt_res = prompt_gpt(f'{initial_prompt}\\n{example_string}{r[0]}\\nQ: {r[1]}\\nA:')\n",
    "#     gpt_res = prompt_gpt(f'{initial_prompt}\\n{r[0]}\\n{r[1]}')\n",
    "#     results.append((gpt_res, r[2]))"
   ]
  },
  {
   "cell_type": "code",
   "execution_count": null,
   "metadata": {},
   "outputs": [],
   "source": []
  },
  {
   "cell_type": "code",
   "execution_count": 13,
   "metadata": {},
   "outputs": [],
   "source": [
    "# len(res_test),[len(r[0]) for r in res_test]"
   ]
  },
  {
   "cell_type": "code",
   "execution_count": 14,
   "metadata": {},
   "outputs": [
    {
     "data": {
      "text/plain": [
       "[]"
      ]
     },
     "execution_count": 14,
     "metadata": {},
     "output_type": "execute_result"
    }
   ],
   "source": [
    "results"
   ]
  },
  {
   "cell_type": "markdown",
   "metadata": {},
   "source": [
    "#### Results\n",
    "\n",
    "\n",
    "| Test                         | Acc(3.5) | Acc(4.0) |\n",
    "|------------------------------|-------|---------|\n",
    "| Test 1                       | 4/4       | 0/4    |\n",
    "| Test 2                       | 8/9     | 4/9     |\n",
    "| Test 3 (longer stories)      | 7/9     | 1/9     |\n",
    "| Test 4(3 people)             | 7/7     | 4/7     |\n",
    "\n",
    "\n",
    "RESULTS AFTER FIXING THE BUG\n",
    "\n",
    "| Test                         | Acc(3.5) | Acc(4.0) |\n",
    "|------------------------------|-------|---------|\n",
    "| Test 1 - seq len 20, diff stories, zero-shot          | 0.86| 0.65|\n",
    "| Test 2 - same as above but fix the same stories for each model          | 0.85     | 0.68  |\n",
    "| Test 3 - seq len 40, fixed stories,      |   0.84   | 0.37     |\n",
    "| Test 4 - seq len 20, 4-shot             |   0.88   |   0.92   |\n",
    "| Test 5 - seq len 40, 4-shot             |   0.80   |   0.93   |\n",
    "| Test 6 - seq len 40, 1 question per story     |   0.8(0.61,0.99)   |   0.55(0.31,0.79)   |\n",
    "| Test 7 - seq len 40, 1 question per story, 4-shot     |   0.65(0.42,0.88)   |   0.8(0.61,0.99)   |\n",
    "\n",
    "\n",
    "\n"
   ]
  },
  {
   "cell_type": "markdown",
   "metadata": {},
   "source": []
  },
  {
   "cell_type": "code",
   "execution_count": 2,
   "metadata": {},
   "outputs": [
    {
     "data": {
      "text/html": [
       "<div>\n",
       "<style scoped>\n",
       "    .dataframe tbody tr th:only-of-type {\n",
       "        vertical-align: middle;\n",
       "    }\n",
       "\n",
       "    .dataframe tbody tr th {\n",
       "        vertical-align: top;\n",
       "    }\n",
       "\n",
       "    .dataframe thead th {\n",
       "        text-align: right;\n",
       "    }\n",
       "</style>\n",
       "<table border=\"1\" class=\"dataframe\">\n",
       "  <thead>\n",
       "    <tr style=\"text-align: right;\">\n",
       "      <th></th>\n",
       "      <th>Prompt</th>\n",
       "      <th>GPT3.5</th>\n",
       "      <th>GPT4</th>\n",
       "      <th>Label</th>\n",
       "    </tr>\n",
       "  </thead>\n",
       "  <tbody>\n",
       "    <tr>\n",
       "      <th>0</th>\n",
       "      <td>Joe jumps in hole_2  Josh jumps in hole_1  Bob...</td>\n",
       "      <td>hole_2</td>\n",
       "      <td>hole_2</td>\n",
       "      <td>hole_2</td>\n",
       "    </tr>\n",
       "    <tr>\n",
       "      <th>1</th>\n",
       "      <td>Joe jumps in hole_2  Josh jumps in hole_1  Bob...</td>\n",
       "      <td>hole_2</td>\n",
       "      <td>hole_2</td>\n",
       "      <td>hole_2</td>\n",
       "    </tr>\n",
       "    <tr>\n",
       "      <th>2</th>\n",
       "      <td>Alice jumps in hole_4  Alice jumps out to the ...</td>\n",
       "      <td>hole_4</td>\n",
       "      <td>hole_4</td>\n",
       "      <td>hole_4</td>\n",
       "    </tr>\n",
       "    <tr>\n",
       "      <th>3</th>\n",
       "      <td>Alice jumps in hole_4  Alice jumps out to the ...</td>\n",
       "      <td>hole_4</td>\n",
       "      <td>hole_4</td>\n",
       "      <td>hole_4</td>\n",
       "    </tr>\n",
       "    <tr>\n",
       "      <th>4</th>\n",
       "      <td>Bob jumps in hole_1  Alice jumps in hole_3  Dy...</td>\n",
       "      <td>hole_3</td>\n",
       "      <td>hole_3</td>\n",
       "      <td>hole_3</td>\n",
       "    </tr>\n",
       "  </tbody>\n",
       "</table>\n",
       "</div>"
      ],
      "text/plain": [
       "                                              Prompt  GPT3.5    GPT4   Label\n",
       "0  Joe jumps in hole_2  Josh jumps in hole_1  Bob...  hole_2  hole_2  hole_2\n",
       "1  Joe jumps in hole_2  Josh jumps in hole_1  Bob...  hole_2  hole_2  hole_2\n",
       "2  Alice jumps in hole_4  Alice jumps out to the ...  hole_4  hole_4  hole_4\n",
       "3  Alice jumps in hole_4  Alice jumps out to the ...  hole_4  hole_4  hole_4\n",
       "4  Bob jumps in hole_1  Alice jumps in hole_3  Dy...  hole_3  hole_3  hole_3"
      ]
     },
     "execution_count": 2,
     "metadata": {},
     "output_type": "execute_result"
    }
   ],
   "source": [
    "import pandas as pd\n",
    "df = pd.read_csv('results.csv')\n",
    "df.head()"
   ]
  },
  {
   "cell_type": "code",
   "execution_count": 11,
   "metadata": {},
   "outputs": [
    {
     "data": {
      "text/html": [
       "<div>\n",
       "<style scoped>\n",
       "    .dataframe tbody tr th:only-of-type {\n",
       "        vertical-align: middle;\n",
       "    }\n",
       "\n",
       "    .dataframe tbody tr th {\n",
       "        vertical-align: top;\n",
       "    }\n",
       "\n",
       "    .dataframe thead th {\n",
       "        text-align: right;\n",
       "    }\n",
       "</style>\n",
       "<table border=\"1\" class=\"dataframe\">\n",
       "  <thead>\n",
       "    <tr style=\"text-align: right;\">\n",
       "      <th></th>\n",
       "      <th>Prompt</th>\n",
       "      <th>GPT3.5</th>\n",
       "      <th>GPT4</th>\n",
       "      <th>Label</th>\n",
       "    </tr>\n",
       "  </thead>\n",
       "  <tbody>\n",
       "    <tr>\n",
       "      <th>6</th>\n",
       "      <td>Dylan jumps in hole_1  Josh jumps in hole_2  A...</td>\n",
       "      <td>hole_4</td>\n",
       "      <td>the field</td>\n",
       "      <td>hole_1</td>\n",
       "    </tr>\n",
       "    <tr>\n",
       "      <th>8</th>\n",
       "      <td>Alice jumps in hole_2  Bob jumps in hole_1  Bo...</td>\n",
       "      <td>hole_4</td>\n",
       "      <td>hole_4</td>\n",
       "      <td>hole_1</td>\n",
       "    </tr>\n",
       "    <tr>\n",
       "      <th>16</th>\n",
       "      <td>Bob jumps in hole_2  Alice jumps in hole_3  Dy...</td>\n",
       "      <td>hole_2</td>\n",
       "      <td>field</td>\n",
       "      <td>hole_2</td>\n",
       "    </tr>\n",
       "    <tr>\n",
       "      <th>38</th>\n",
       "      <td>Alice jumps in hole_3  Bob jumps in hole_1  Jo...</td>\n",
       "      <td>hole_3</td>\n",
       "      <td>hole_3</td>\n",
       "      <td>hole_2</td>\n",
       "    </tr>\n",
       "  </tbody>\n",
       "</table>\n",
       "</div>"
      ],
      "text/plain": [
       "                                               Prompt  GPT3.5       GPT4  \\\n",
       "6   Dylan jumps in hole_1  Josh jumps in hole_2  A...  hole_4  the field   \n",
       "8   Alice jumps in hole_2  Bob jumps in hole_1  Bo...  hole_4     hole_4   \n",
       "16  Bob jumps in hole_2  Alice jumps in hole_3  Dy...  hole_2      field   \n",
       "38  Alice jumps in hole_3  Bob jumps in hole_1  Jo...  hole_3     hole_3   \n",
       "\n",
       "     Label  \n",
       "6   hole_1  \n",
       "8   hole_1  \n",
       "16  hole_2  \n",
       "38  hole_2  "
      ]
     },
     "execution_count": 11,
     "metadata": {},
     "output_type": "execute_result"
    }
   ],
   "source": [
    "err = df[df['GPT4'] != df['Label']]\n",
    "err"
   ]
  },
  {
   "cell_type": "code",
   "execution_count": 12,
   "metadata": {},
   "outputs": [
    {
     "name": "stdout",
     "output_type": "stream",
     "text": [
      "Dylan jumps in hole_1  Josh jumps in hole_2  Alice jumps in hole_4  Alice jumps out to the field  Dylan jumps out to the field  Dylan jumps in hole_4  Joe jumps in hole_1  Josh jumps out to the field  Dylan jumps out to the field  Alice jumps in hole_1  Dylan jumps in hole_4  Josh jumps in hole_1  Josh jumps out to the field  Bob jumps in hole_4  Dylan jumps out to the field  Dylan jumps in hole_1  Dylan jumps out to the field  Josh jumps in hole_3  Dylan jumps in hole_2  Joe jumps out to the field Where does Bob think Joe is? \n",
      "\n",
      "Alice jumps in hole_2  Bob jumps in hole_1  Bob jumps out to the field  Josh jumps in hole_2  Bob jumps in hole_1  Alice jumps out to the field  Bob jumps out to the field  Josh jumps out to the field  Dylan jumps in hole_3  Alice jumps in hole_4  Joe jumps in hole_2  Joe jumps out to the field  Alice jumps out to the field  Joe jumps in hole_1  Alice jumps in hole_2  Josh jumps in hole_2  Joe jumps out to the field  Alice jumps out to the field  Joe jumps in hole_4  Josh jumps out to the field  Josh jumps in hole_3  Josh jumps out to the field  Josh jumps in hole_4  Dylan jumps out to the field  Dylan jumps in hole_4  Dylan jumps out to the field  Alice jumps in hole_2  Joe jumps out to the field  Alice jumps out to the field  Josh jumps out to the field  Dylan jumps in hole_1  Dylan jumps out to the field  Josh jumps in hole_1  Alice jumps in hole_3  Dylan jumps in hole_1  Joe jumps in hole_2  Dylan jumps out to the field  Dylan jumps in hole_4  Josh jumps out to the field Where does Dylan think Josh is? \n",
      "\n",
      "Bob jumps in hole_2  Alice jumps in hole_3  Dylan jumps in hole_2  Dylan jumps out to the field  Josh jumps in hole_2  Bob jumps out to the field  Dylan jumps in hole_1  Dylan jumps out to the field  Joe jumps in hole_1  Joe jumps out to the field  Alice jumps out to the field  Bob jumps in hole_2  Joe jumps in hole_4  Alice jumps in hole_3  Josh jumps out to the field  Joe jumps out to the field  Alice jumps out to the field  Dylan jumps in hole_3  Josh jumps in hole_2  Joe jumps in hole_3  Josh jumps out to the field  Joe jumps out to the field  Josh jumps in hole_1  Josh jumps out to the field  Bob jumps out to the field Where does Dylan think Bob is? \n",
      "\n",
      "Alice jumps in hole_3  Bob jumps in hole_1  Josh jumps in hole_3  Josh jumps out to the field  Joe jumps in hole_4  Josh jumps in hole_3  Joe jumps out to the field  Bob jumps out to the field  Joe jumps in hole_2  Joe jumps out to the field  Dylan jumps in hole_3  Bob jumps in hole_2  Joe jumps in hole_1  Dylan jumps out to the field  Bob jumps out to the field  Josh jumps out to the field  Joe jumps out to the field  Dylan jumps in hole_1  Alice jumps out to the field  Alice jumps in hole_4  Josh jumps in hole_2  Bob jumps in hole_2  Dylan jumps out to the field  Alice jumps out to the field  Bob jumps out to the field  Joe jumps in hole_4  Bob jumps in hole_4  Alice jumps in hole_4  Bob jumps out to the field  Alice jumps out to the field  Alice jumps in hole_3  Josh jumps out to the field Where does Joe think Josh is? \n",
      "\n"
     ]
    },
    {
     "data": {
      "text/plain": [
       "[None, None, None, None]"
      ]
     },
     "execution_count": 12,
     "metadata": {},
     "output_type": "execute_result"
    }
   ],
   "source": [
    "[print(e,'\\n') for e in err['Prompt']]"
   ]
  }
 ],
 "metadata": {
  "kernelspec": {
   "display_name": "project",
   "language": "python",
   "name": "python3"
  },
  "language_info": {
   "codemirror_mode": {
    "name": "ipython",
    "version": 3
   },
   "file_extension": ".py",
   "mimetype": "text/x-python",
   "name": "python",
   "nbconvert_exporter": "python",
   "pygments_lexer": "ipython3",
   "version": "3.11.8"
  }
 },
 "nbformat": 4,
 "nbformat_minor": 2
}
